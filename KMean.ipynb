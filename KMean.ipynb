{
 "cells": [
  {
   "cell_type": "code",
   "execution_count": 1,
   "metadata": {},
   "outputs": [
    {
     "name": "stdout",
     "output_type": "stream",
     "text": [
      "Preprocessed data not found. The system is going to make new indexes.\n",
      "Stop words loaded successfully.\n",
      "Parsing\tResearchPapers\\1.txt\n",
      "Parsing\tResearchPapers\\11.txt\n",
      "Parsing\tResearchPapers\\12.txt\n",
      "Parsing\tResearchPapers\\13.txt\n",
      "Parsing\tResearchPapers\\14.txt\n",
      "Parsing\tResearchPapers\\15.txt\n",
      "Parsing\tResearchPapers\\16.txt\n",
      "Parsing\tResearchPapers\\17.txt\n",
      "Parsing\tResearchPapers\\18.txt\n",
      "Parsing\tResearchPapers\\2.txt\n",
      "Parsing\tResearchPapers\\21.txt\n",
      "Parsing\tResearchPapers\\22.txt\n",
      "Parsing\tResearchPapers\\23.txt\n",
      "Parsing\tResearchPapers\\24.txt\n",
      "Parsing\tResearchPapers\\25.txt\n",
      "Parsing\tResearchPapers\\26.txt\n",
      "Parsing\tResearchPapers\\3.txt\n",
      "Parsing\tResearchPapers\\7.txt\n",
      "Parsing\tResearchPapers\\8.txt\n",
      "Parsing\tResearchPapers\\9.txt\n",
      "\n",
      "Saving all computed indexes on the drive.\n",
      "Total entires in the collection\t20.\n",
      "14798\n"
     ]
    }
   ],
   "source": [
    "from typing import List\n",
    "import numpy as np\n",
    "from vector_space_model import VectorSpaceModel"
   ]
  },
  {
   "cell_type": "code",
   "execution_count": 2,
   "metadata": {},
   "outputs": [
    {
     "name": "stdout",
     "output_type": "stream",
     "text": [
      "Preprocessed data not found. The system is going to make new indexes.\n",
      "Stop words loaded successfully.\n",
      "Parsing\tResearchPapers\\1.txt\n",
      "Parsing\tResearchPapers\\11.txt\n",
      "Parsing\tResearchPapers\\12.txt\n",
      "Parsing\tResearchPapers\\13.txt\n",
      "Parsing\tResearchPapers\\14.txt\n",
      "Parsing\tResearchPapers\\15.txt\n",
      "Parsing\tResearchPapers\\16.txt\n",
      "Parsing\tResearchPapers\\17.txt\n",
      "Parsing\tResearchPapers\\18.txt\n",
      "Parsing\tResearchPapers\\2.txt\n",
      "Parsing\tResearchPapers\\21.txt\n",
      "Parsing\tResearchPapers\\22.txt\n",
      "Parsing\tResearchPapers\\23.txt\n",
      "Parsing\tResearchPapers\\24.txt\n",
      "Parsing\tResearchPapers\\25.txt\n",
      "Parsing\tResearchPapers\\26.txt\n",
      "Parsing\tResearchPapers\\3.txt\n",
      "Parsing\tResearchPapers\\7.txt\n",
      "Parsing\tResearchPapers\\8.txt\n",
      "Parsing\tResearchPapers\\9.txt\n",
      "\n",
      "Saving all computed indexes on the drive.\n",
      "Total entires in the collection\t20.\n"
     ]
    },
    {
     "data": {
      "text/plain": [
       "1"
      ]
     },
     "execution_count": 2,
     "metadata": {},
     "output_type": "execute_result"
    }
   ],
   "source": [
    "vector_space_model = VectorSpaceModel(\n",
    "    documents_path=\"ResearchPapers\",\n",
    "    stop_words_file_path=\"Stopword-List.txt\",\n",
    ")\n",
    "vector_space_model.initiate()"
   ]
  },
  {
   "cell_type": "code",
   "execution_count": 24,
   "metadata": {},
   "outputs": [
    {
     "data": {
      "text/plain": [
       "[array([0.02569657, 0.00114345, 0.02239345, ..., 0.        , 0.        ,\n",
       "        0.        ]),\n",
       " array([0.00343183, 0.00173072, 0.00199379, ..., 0.        , 0.        ,\n",
       "        0.        ]),\n",
       " array([0.        , 0.        , 0.00297531, ..., 0.        , 0.        ,\n",
       "        0.        ]),\n",
       " array([0., 0., 0., ..., 0., 0., 0.]),\n",
       " array([0.        , 0.        , 0.02098726, ..., 0.        , 0.        ,\n",
       "        0.        ]),\n",
       " array([0.0231434 , 0.01361679, 0.02465035, ..., 0.        , 0.        ,\n",
       "        0.        ]),\n",
       " array([0.        , 0.00322744, 0.        , ..., 0.        , 0.        ,\n",
       "        0.        ]),\n",
       " array([0., 0., 0., ..., 0., 0., 0.]),\n",
       " array([0.        , 0.00322744, 0.        , ..., 0.        , 0.        ,\n",
       "        0.        ]),\n",
       " array([0., 0., 0., ..., 0., 0., 0.]),\n",
       " array([0., 0., 0., ..., 0., 0., 0.]),\n",
       " array([0.00322867, 0.        , 0.00281365, ..., 0.        , 0.        ,\n",
       "        0.        ]),\n",
       " array([0., 0., 0., ..., 0., 0., 0.]),\n",
       " array([0., 0., 0., ..., 0., 0., 0.]),\n",
       " array([0.01400243, 0.04501783, 0.        , ..., 0.        , 0.        ,\n",
       "        0.        ]),\n",
       " array([0.02383135, 0.00515078, 0.        , ..., 0.        , 0.        ,\n",
       "        0.        ]),\n",
       " array([0.00296412, 0.        , 0.08007627, ..., 0.        , 0.        ,\n",
       "        0.        ]),\n",
       " array([0.        , 0.00305912, 0.03524111, ..., 0.        , 0.        ,\n",
       "        0.        ]),\n",
       " array([0.        , 0.00725504, 0.00835782, ..., 0.        , 0.        ,\n",
       "        0.        ]),\n",
       " array([0.01357073, 0.00342195, 0.        , ..., 0.        , 0.        ,\n",
       "        0.        ])]"
      ]
     },
     "execution_count": 24,
     "metadata": {},
     "output_type": "execute_result"
    }
   ],
   "source": [
    "X = []\n",
    "doc_seq = []\n",
    "for i in vector_space_model.vsm_index:\n",
    "    doc_seq.append(int(i[0]))\n",
    "    X.append(i[1])\n",
    "y = vector_space_model.make_y(doc_seq=doc_seq)\n",
    "# X = np.array(X)\n",
    "\n",
    "X\n",
    "# from sklearn.preprocessing import Normalizer\n",
    "\n",
    "# transformer = Normalizer().fit(X)  # fit does nothing.\n",
    "# B = transformer.transform(X)\n"
   ]
  },
  {
   "cell_type": "code",
   "execution_count": 31,
   "metadata": {},
   "outputs": [
    {
     "name": "stderr",
     "output_type": "stream",
     "text": [
      "No artists with labels found to put in legend.  Note that artists whose label start with an underscore are ignored when legend() is called with no argument.\n"
     ]
    },
    {
     "name": "stdout",
     "output_type": "stream",
     "text": [
      "[4 0 1 1 2 4 3 2 3 1 1 4 2 1 0 0 1 0 4 4]\n"
     ]
    },
    {
     "data": {
      "image/png": "[encoded data removed]",
      "text/plain": [
       "<Figure size 500x500 with 1 Axes>"
      ]
     },
     "metadata": {},
     "output_type": "display_data"
    }
   ],
   "source": [
    "from sklearn.cluster import KMeans\n",
    "from sklearn.decomposition import PCA\n",
    "from sklearn.preprocessing import StandardScaler\n",
    "from sklearn.feature_extraction.text import TfidfVectorizer\n",
    "\n",
    "import numpy as np\n",
    "import matplotlib.pyplot as plt\n",
    "import os\n",
    "\n",
    "# docs = []\n",
    "# doc_seq = os.listdir(\"ResearchPapers/\")\n",
    "\n",
    "# for i in doc_seq:\n",
    "#     with open(os.path.join(\"ResearchPapers/\", i), 'r') as file:\n",
    "#         docs.append(file.read())\n",
    "    \n",
    "# vectorizer = TfidfVectorizer()\n",
    "# X = vectorizer.fit_transform(docs)\n",
    "\n",
    "from sklearn.cluster import KMeans\n",
    "from sklearn.decomposition import PCA\n",
    "from sklearn.feature_extraction.text import TfidfVectorizer\n",
    "from sklearn.metrics import silhouette_score\n",
    "import numpy as np\n",
    "import matplotlib.pyplot as plt\n",
    "import os\n",
    "\n",
    "# docs = []\n",
    "# doc_seq = os.listdir(\"ResearchPapers/\")\n",
    "\n",
    "# for i in doc_seq:\n",
    "#     with open(os.path.join(\"ResearchPapers/\", i), 'r') as file:\n",
    "#         docs.append(file.read())\n",
    "    \n",
    "# # Text preprocessing and vectorization\n",
    "# vectorizer = TfidfVectorizer(stop_words='english', max_df=0.8, min_df=0.1)\n",
    "# X = vectorizer.fit_transform(docs)\n",
    "# Experiment with different values of K\n",
    "# k_values = [3, 5, 7]  # Adjust as needed\n",
    "# best_score = -1\n",
    "# best_k = None\n",
    "\n",
    "# for k in k_values:\n",
    "#     kmeans = KMeans(n_clusters=k, random_state=42)\n",
    "#     kmeans.fit(X)\n",
    "#     labels = kmeans.labels_\n",
    "#     silhouette_avg = silhouette_score(X, labels)\n",
    "#     print(f\"For k={k}, Silhouette Score: {silhouette_avg}\")\n",
    "#     if silhouette_avg > best_score:\n",
    "#         best_score = silhouette_avg\n",
    "#         best_k = k\n",
    "\n",
    "# # Choose the best K\n",
    "# print(f\"Best K: {best_k}\")\n",
    "\n",
    "# # Apply K-means clustering with the best K\n",
    "# kmeans = KMeans(n_clusters=best_k, random_state=42)\n",
    "# kmeans.fit(X)\n",
    "# labels = kmeans.labels_\n",
    "\n",
    "# pca = PCA(n_components=2).fit(X.toarray())\n",
    "# data2D = pca.transform(X.toarray())\n",
    "# centroids2D = pca.transform(kmeans.cluster_centers_)\n",
    "\n",
    "# plt.figure(figsize=(8, 6))\n",
    "\n",
    "# for i in range(best_k):\n",
    "#     plt.scatter(data2D[labels == i, 0], data2D[labels == i, 1], label=f'Cluster {i+1}')\n",
    "\n",
    "# plt.scatter(centroids2D[:, 0], centroids2D[:, 1], marker='x', s=200, c='black', label='Centroids')\n",
    "\n",
    "# plt.title('K-means Clustering')\n",
    "# plt.xlabel('Principal Component 1')\n",
    "# plt.ylabel('Principal Component 2')\n",
    "# plt.legend()\n",
    "# plt.show()\n",
    "\n",
    "# Standardize features\n",
    "# scaler = StandardScaler()\n",
    "# X_scaled = scaler.fit_transform(X)\n",
    "\n",
    "# Apply K-means clustering\n",
    "kmeans = KMeans(n_clusters=5)\n",
    "kmeans.fit(X)\n",
    "cluster_labels = kmeans.labels_\n",
    "\n",
    "# Reduce dimensionality for visualization\n",
    "pca = PCA(n_components=2)\n",
    "X_pca = pca.fit_transform(X)\n",
    "\n",
    "# Visualize the clusters\n",
    "plt.figure(figsize=(5,5))\n",
    "\n",
    "print(cluster_labels)\n",
    "plt.scatter(X_pca[:, 0], X_pca[:, 1], c=cluster_labels)\n",
    "\n",
    "plt.title('K-means Clustering of Iris Dataset')\n",
    "plt.legend()\n",
    "plt.show()"
   ]
  },
  {
   "cell_type": "code",
   "execution_count": null,
   "metadata": {},
   "outputs": [],
   "source": []
  },
  {
   "cell_type": "code",
   "execution_count": null,
   "metadata": {},
   "outputs": [],
   "source": []
  },
  {
   "cell_type": "code",
   "execution_count": null,
   "metadata": {},
   "outputs": [],
   "source": []
  },
  {
   "cell_type": "code",
   "execution_count": null,
   "metadata": {},
   "outputs": [],
   "source": []
  },
  {
   "cell_type": "code",
   "execution_count": null,
   "metadata": {},
   "outputs": [],
   "source": []
  }
 ],
 "metadata": {
  "kernelspec": {
   "display_name": ".env",
   "language": "python",
   "name": "python3"
  },
  "language_info": {
   "codemirror_mode": {
    "name": "ipython",
    "version": 3
   },
   "file_extension": ".py",
   "mimetype": "text/x-python",
   "name": "python",
   "nbconvert_exporter": "python",
   "pygments_lexer": "ipython3",
   "version": "3.12.3"
  }
 },
 "nbformat": 4,
 "nbformat_minor": 2
}
